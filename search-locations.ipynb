{
 "cells": [
  {
   "cell_type": "code",
   "execution_count": 52,
   "metadata": {},
   "outputs": [],
   "source": [
    "import math\n",
    "from shapely.geometry import Point\n",
    "import folium\n",
    "import pandas as pd\n",
    "import geopandas as gpd\n",
    "import requests\n",
    "import os\n",
    "from dotenv import load_dotenv\n",
    "load_dotenv(\".env\")\n",
    "from tqdm import tqdm"
   ]
  },
  {
   "cell_type": "code",
   "execution_count": 53,
   "metadata": {},
   "outputs": [],
   "source": [
    "def search_locations(lat, lng, radius):\n",
    "    \"\"\"\n",
    "    指定した緯度・経度を中心に、半径radiusメートル以内で結果を返す関数\n",
    "    :param lat: 緯度\n",
    "    :param lng: 経度\n",
    "    :param radius: 検索半径（メートル）\n",
    "    \"\"\"\n",
    "    API_KEY = os.getenv(\"API_KEY\")\n",
    "    API_URL = os.getenv(\"API_URL\")\n",
    "\n",
    "    # API Request\n",
    "\n",
    "    headers = {\n",
    "        \"Content-Type\": \"application/json\",\n",
    "        \"X-Goog-Api-Key\": API_KEY,\n",
    "        \"X-Goog-FieldMask\": \"places.displayName,places.location,places.id\",\n",
    "    }\n",
    "\n",
    "    data = {\n",
    "        \"includedTypes\": [\"restaurant\"],\n",
    "        \"maxResultCount\": 10,\n",
    "        \"locationRestriction\": {\"circle\": {\"center\": {\"latitude\": lat, \"longitude\": lng}, \"radius\": radius}},\n",
    "        \"languageCode\": \"ja\",\n",
    "    }\n",
    "\n",
    "    response = requests.post(API_URL, headers=headers, json=data)\n",
    "    res = response.json()\n",
    "    \n",
    "    # Convert to GeoDataFrame\n",
    "    \n",
    "    df = pd.DataFrame()\n",
    "    \n",
    "    if \"places\" not in res:\n",
    "        return df\n",
    "    for place in res[\"places\"]:\n",
    "        new_df = gpd.GeoDataFrame(\n",
    "            [\n",
    "                {\n",
    "                    \"name\": place[\"displayName\"][\"text\"],\n",
    "                    \"geometry\": Point(place[\"location\"][\"longitude\"], place[\"location\"][\"latitude\"]),\n",
    "                    \"place_id\": place[\"id\"],\n",
    "                }\n",
    "            ]\n",
    "        )\n",
    "        df = pd.concat([df, new_df])    \n",
    "        \n",
    "    return df\n",
    "\n",
    "\n",
    "def search_locations_from_multi_area(grid_centers, radius_m):\n",
    "    \"\"\"\n",
    "    複数の地点を指定して、それぞれの地点を中心に、半径radiusメートル以内で結果を返す関数\n",
    "    :param grid_centers: (lat, lon)のコラムを持つGeoDataFrame\n",
    "    :param radius: 検索半径（メートル）\n",
    "    \"\"\"\n",
    "    results = gpd.GeoDataFrame()\n",
    "    for i in tqdm(range(len(grid_centers))):\n",
    "        lat = grid_centers.loc[i, \"lat\"]\n",
    "        lon = grid_centers.loc[i, \"lon\"]\n",
    "        res = search_locations(lat, lon, radius_m)\n",
    "        results = pd.concat([results, res])\n",
    "        \n",
    "    return results"
   ]
  },
  {
   "cell_type": "code",
   "execution_count": 54,
   "metadata": {},
   "outputs": [],
   "source": [
    "# gridデータの読み込み\n",
    "tokuyama_grid = gpd.read_file(\"./data/tokuyama-grid.csv\")"
   ]
  },
  {
   "cell_type": "code",
   "execution_count": 55,
   "metadata": {},
   "outputs": [
    {
     "name": "stderr",
     "output_type": "stream",
     "text": [
      "100%|██████████| 760/760 [05:37<00:00,  2.25it/s]\n"
     ]
    }
   ],
   "source": [
    "# それぞれのgridから飲食店を検索\n",
    "radius = os.getenv(\"RADIUS\")\n",
    "results = search_locations_from_multi_area(tokuyama_grid, radius)"
   ]
  },
  {
   "cell_type": "code",
   "execution_count": 59,
   "metadata": {},
   "outputs": [
    {
     "name": "stderr",
     "output_type": "stream",
     "text": [
      "/usr/local/lib/python3.12/site-packages/pyogrio/raw.py:698: UserWarning: 'crs' was not provided.  The output dataset will not have projection information defined and may not be usable in other systems.\n",
      "  warnings.warn(\n"
     ]
    }
   ],
   "source": [
    "results_df = gpd.GeoDataFrame(results)\n",
    "results_df.to_file(\"./data/results.geojson\", driver=\"GeoJSON\")"
   ]
  }
 ],
 "metadata": {
  "kernelspec": {
   "display_name": "Python 3",
   "language": "python",
   "name": "python3"
  },
  "language_info": {
   "codemirror_mode": {
    "name": "ipython",
    "version": 3
   },
   "file_extension": ".py",
   "mimetype": "text/x-python",
   "name": "python",
   "nbconvert_exporter": "python",
   "pygments_lexer": "ipython3",
   "version": "3.12.5"
  }
 },
 "nbformat": 4,
 "nbformat_minor": 2
}
